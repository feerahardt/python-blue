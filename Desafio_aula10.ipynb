{
  "nbformat": 4,
  "nbformat_minor": 0,
  "metadata": {
    "colab": {
      "name": "Desafio aula10.ipynb",
      "provenance": [],
      "authorship_tag": "ABX9TyOjLjJsP/akkefkX84LU3pn",
      "include_colab_link": true
    },
    "kernelspec": {
      "name": "python3",
      "display_name": "Python 3"
    },
    "language_info": {
      "name": "python"
    }
  },
  "cells": [
    {
      "cell_type": "markdown",
      "metadata": {
        "id": "view-in-github",
        "colab_type": "text"
      },
      "source": [
        "<a href=\"https://colab.research.google.com/github/feerahardt/python-blue/blob/main/Desafio_aula10.ipynb\" target=\"_parent\"><img src=\"https://colab.research.google.com/assets/colab-badge.svg\" alt=\"Open In Colab\"/></a>"
      ]
    },
    {
      "cell_type": "code",
      "metadata": {
        "id": "2HIR8Ulo5trs"
      },
      "source": [
        ""
      ],
      "execution_count": null,
      "outputs": []
    },
    {
      "cell_type": "markdown",
      "metadata": {
        "id": "Y5ldcks352eV"
      },
      "source": [
        "Crie um programa que leia a idade e o sexo de várias pessoas. A\n",
        "cada pessoa cadastrada, o programa deverá perguntar se o\n",
        "usuário quer ou não continuar. No final, mostre:\n",
        "A) quantas pessoas tem mais de 18 anos.\n",
        "B) quantos homens foram cadastrados.\n",
        "C) quantas mulheres tem menos de 20 anos.\n"
      ]
    },
    {
      "cell_type": "code",
      "metadata": {
        "colab": {
          "base_uri": "https://localhost:8080/"
        },
        "id": "bPJavto554y2",
        "outputId": "960a59c9-93f8-4bff-a5f5-bdcfe8085d58"
      },
      "source": [
        "cMaior18 = 0\n",
        "cHomem = 0\n",
        "cMulher = 0\n",
        "repetir = True\n",
        "\n",
        "while repetir:\n",
        "  idade = int(input('Informe a sua idade: '))\n",
        "  sexo = input('Qual o seu sexo (m/f)? ')\n",
        "  resposta = input('Deseja repetir (s/n)? ')\n",
        "  if resposta == 'N' or resposta == 'n':\n",
        "    repetir = False\n",
        "  \n",
        "  if idade > 18:\n",
        "    cMaior18 += 1\n",
        "    \n",
        "  if sexo == 'm' or sexo == 'M':\n",
        "    cHomem += 1\n",
        "  elif idade < 20:\n",
        "    cMulher += 1\n",
        "\n",
        "print(cMaior18, cHomem, cMulher)\n",
        " \n",
        "\n"
      ],
      "execution_count": 28,
      "outputs": [
        {
          "output_type": "stream",
          "text": [
            "Informe a sua idade: 18\n",
            "Qual o seu sexo (m/f)? f\n",
            "Deseja repetir (s/n)? s\n",
            "Informe a sua idade: 27\n",
            "Qual o seu sexo (m/f)? m\n",
            "Deseja repetir (s/n)? s\n",
            "Informe a sua idade: 27\n",
            "Qual o seu sexo (m/f)? f\n",
            "Deseja repetir (s/n)? n\n",
            "2 1 1\n"
          ],
          "name": "stdout"
        }
      ]
    },
    {
      "cell_type": "code",
      "metadata": {
        "colab": {
          "base_uri": "https://localhost:8080/",
          "height": 132
        },
        "id": "bXm5MuYk_dL1",
        "outputId": "b0c5b285-8c33-4bfe-ddcd-c7a0382e200c"
      },
      "source": [
        "cMaior18 = 0\n",
        "cHomem = 0\n",
        "cMulher = 0\n",
        "repetir = True\n",
        "idade = input('Informe a sua idade: ')\n",
        "sexo = input('Qual o seu sexo (m/f)? ')\n",
        "\n",
        "while repetir:\n",
        "  idade = input('Informe a sua idade: ') \n",
        "  sexo = input('Qual o seu sexo (m/f)? ')\n",
        "  resposta = input('Deseja repetir (s/n)? ')\n",
        "  \n",
        "  if repetir == resposta 'n' or resposta 'N':\n",
        "    repetir = False\n",
        "  else:\n",
        "    if idade > 18:\n",
        "      cMaior += 1\n",
        "    elif sexo == 'm' or 'M':\n",
        "      cHomem += 1\n",
        "    elif idade > 20:\n",
        "      cMulher += 1\n",
        "      print(cHomem)  \n",
        "\n"
      ],
      "execution_count": null,
      "outputs": [
        {
          "output_type": "error",
          "ename": "SyntaxError",
          "evalue": "ignored",
          "traceback": [
            "\u001b[0;36m  File \u001b[0;32m\"<ipython-input-9-6a6ff9da5d60>\"\u001b[0;36m, line \u001b[0;32m12\u001b[0m\n\u001b[0;31m    if repetir == resposta 'n' or resposta 'N':\u001b[0m\n\u001b[0m                             ^\u001b[0m\n\u001b[0;31mSyntaxError\u001b[0m\u001b[0;31m:\u001b[0m invalid syntax\n"
          ]
        }
      ]
    },
    {
      "cell_type": "code",
      "metadata": {
        "colab": {
          "base_uri": "https://localhost:8080/",
          "height": 132
        },
        "id": "XPruMJsS_aDY",
        "outputId": "b0c5b285-8c33-4bfe-ddcd-c7a0382e200c"
      },
      "source": [
        ""
      ],
      "execution_count": null,
      "outputs": [
        {
          "output_type": "error",
          "ename": "SyntaxError",
          "evalue": "ignored",
          "traceback": [
            "\u001b[0;36m  File \u001b[0;32m\"<ipython-input-9-6a6ff9da5d60>\"\u001b[0;36m, line \u001b[0;32m12\u001b[0m\n\u001b[0;31m    if repetir == resposta 'n' or resposta 'N':\u001b[0m\n\u001b[0m                             ^\u001b[0m\n\u001b[0;31mSyntaxError\u001b[0m\u001b[0;31m:\u001b[0m invalid syntax\n"
          ]
        }
      ]
    },
    {
      "cell_type": "code",
      "metadata": {
        "colab": {
          "base_uri": "https://localhost:8080/",
          "height": 132
        },
        "id": "rKjKkoxv_YhZ",
        "outputId": "b0c5b285-8c33-4bfe-ddcd-c7a0382e200c"
      },
      "source": [
        ""
      ],
      "execution_count": null,
      "outputs": [
        {
          "output_type": "error",
          "ename": "SyntaxError",
          "evalue": "ignored",
          "traceback": [
            "\u001b[0;36m  File \u001b[0;32m\"<ipython-input-9-6a6ff9da5d60>\"\u001b[0;36m, line \u001b[0;32m12\u001b[0m\n\u001b[0;31m    if repetir == resposta 'n' or resposta 'N':\u001b[0m\n\u001b[0m                             ^\u001b[0m\n\u001b[0;31mSyntaxError\u001b[0m\u001b[0;31m:\u001b[0m invalid syntax\n"
          ]
        }
      ]
    }
  ]
}